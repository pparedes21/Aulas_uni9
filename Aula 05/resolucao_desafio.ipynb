{
  "nbformat": 4,
  "nbformat_minor": 0,
  "metadata": {
    "colab": {
      "name": "resolucao-desafio.ipynb",
      "provenance": [],
      "collapsed_sections": []
    },
    "kernelspec": {
      "name": "python3",
      "display_name": "Python 3"
    },
    "language_info": {
      "name": "python"
    }
  },
  "cells": [
    {
      "cell_type": "code",
      "metadata": {
        "id": "F0ZT6VpvvgTG"
      },
      "source": [
        "alunos = [] # isso é uma lista\n",
        "\n",
        "alunos.append({'nome': 'Aluno 01', 'curso': 'Ciências da Computação', 'AV1':8 })\n",
        "alunos.append({'nome': 'Aluno 02', 'curso': 'Sistemas de Informação', 'AV1':7 })\n",
        "alunos.append({'nome': 'Aluno 03', 'curso': 'Sistemas de Informação', 'AV1':6 })\n",
        "alunos.append({'nome': 'Aluno 04', 'curso': 'Sistemas de Informação', 'AV1':6 })\n",
        "alunos.append({'nome': 'Aluno 05', 'curso': 'Sistemas de Informação', 'AV1':6 })\n",
        "alunos.append({'nome': 'Aluno 06', 'curso': 'Análise e Desenvolvimento de Sistemas', 'AV1':7 })\n",
        "alunos.append({'nome': 'Aluno 07', 'curso': 'Análise e Desenvolvimento de Sistemas', 'AV1':9 })\n",
        "alunos.append({'nome': 'Aluno 08', 'curso': 'Ciências da Computação', 'AV1':10 })\n",
        "alunos.append({'nome': 'Aluno 09', 'curso': 'Ciências da Computação', 'AV1':10 })\n",
        "alunos.append({'nome': 'Aluno 10', 'curso': 'Ciências da Computação', 'AV1':4 })\n",
        "alunos.append({'nome': 'Aluno 11', 'curso': 'Análise e Desenvolvimento de Sistemas', 'AV1':5 })\n",
        "alunos.append({'nome': 'Aluno 11', 'curso': 'Análise e Desenvolvimento de Sistemas', 'AV1':5 })\n",
        "alunos.append({'nome': 'Aluno 12', 'curso': 'Análise e Desenvolvimento de Sistemas', 'AV1':9 })\n",
        "alunos.append({'nome': 'Aluno 13', 'curso': 'Análise e Desenvolvimento de Sistemas', 'AV1':9 })\n",
        "alunos.append({'nome': 'Aluno 14', 'curso': 'Ciências da Computação', 'AV1': 7})\n",
        "alunos.append({'nome': 'Aluno 15', 'curso': 'Análise e Desenvolvimento de Sistemas', 'AV1':7})\n",
        "alunos.append({'nome': 'Aluno 16', 'curso': 'Ciências da Computação', 'AV1': 6})\n",
        "alunos.append({'nome': 'Aluno 17', 'curso': 'Análise e Desenvolvimento de Sistemas', 'AV1':8 })\n",
        "alunos.append({'nome': 'Aluno 18', 'curso': 'Ciências da Computação', 'AV1':4 })\n",
        "alunos.append({'nome': 'Aluno 19', 'curso': 'Sistemas de Informação', 'AV1':2 })\n",
        "alunos.append({'nome': 'Aluno 20', 'curso': 'Análise e Desenvolvimento de Sistemas', 'AV1':9 })"
      ],
      "execution_count": 43,
      "outputs": []
    },
    {
      "cell_type": "code",
      "metadata": {
        "id": "DEMp3i5Qv-bO"
      },
      "source": [
        "# DESAFIO\n",
        "# Construa um algoritmo que mostre de uma só vez os resultados \n",
        "# para os respectivos cursos\n",
        "# Menor nota, Maior nota e Média das notas"
      ],
      "execution_count": 40,
      "outputs": []
    },
    {
      "cell_type": "code",
      "metadata": {
        "colab": {
          "base_uri": "https://localhost:8080/"
        },
        "id": "w_kBh475xeZC",
        "outputId": "ffcad2fa-9ce5-4dc2-900f-2e66b1240c93"
      },
      "source": [
        "notas = [[]] # guardar as notas\n",
        "cursos = {\"Notas Gerais\" : 0} # guardar os cursos\n",
        "num = 1 # variável para controlar a quantidade de cursos\n",
        "\n",
        "for aluno in alunos: # percorrer todos os alunos que estiverem no dicionário\n",
        "  if aluno.get('curso') not in cursos: # verifica se o curso já foi adicionado\n",
        "    notas.append([]) # cria uma entrada na lista para cada curso\n",
        "    cursos[aluno.get('curso')] = num # cria uma chave no dicionário\n",
        "    num += 1\n",
        "\n",
        "  # vamos pegar as notas de cada aluno de cada curso\n",
        "  #    0   1   2   3\n",
        "  # [ [], [], [], [] ]\n",
        "  notas[0].append(aluno.get('AV1')) # pega as notas individuais e coloca na lista\n",
        "  notas[cursos.get(aluno.get('curso'))].append(aluno.get('AV1'))\n",
        "\n",
        "# vamos calcular tudo de uma só vez\n",
        "for i in range(0, len(notas), 1):\n",
        "  print( (\"\" if i == 0 else \"Curso: \"), str(list(cursos)[i]) )\n",
        "  print( (\"\" if i == 0 else \"Notas\"), notas[i] )\n",
        "  print('A maior nota é: ', max(notas[i]))\n",
        "  print('A menor nota é: ', min(notas[i]))\n",
        "  print('A média .....é: ', round(sum(notas[i]) / len(notas[i]),2))\n",
        "  print() # pula a linha após cada curso\n"
      ],
      "execution_count": 45,
      "outputs": [
        {
          "output_type": "stream",
          "name": "stdout",
          "text": [
            " Notas Gerais\n",
            " [8, 7, 6, 6, 6, 7, 9, 10, 10, 4, 5, 5, 9, 9, 7, 7, 6, 8, 4, 2, 9]\n",
            "A maior nota é:  10\n",
            "A menor nota é:  2\n",
            "A média .....é:  6.86\n",
            "\n",
            "Curso:  Ciências da Computação\n",
            "Notas [8, 10, 10, 4, 7, 6, 4]\n",
            "A maior nota é:  10\n",
            "A menor nota é:  4\n",
            "A média .....é:  7.0\n",
            "\n",
            "Curso:  Sistemas de Informação\n",
            "Notas [7, 6, 6, 6, 2]\n",
            "A maior nota é:  7\n",
            "A menor nota é:  2\n",
            "A média .....é:  5.4\n",
            "\n",
            "Curso:  Análise e Desenvolvimento de Sistemas\n",
            "Notas [7, 9, 5, 5, 9, 9, 7, 8, 9]\n",
            "A maior nota é:  9\n",
            "A menor nota é:  5\n",
            "A média .....é:  7.56\n",
            "\n"
          ]
        }
      ]
    },
    {
      "cell_type": "code",
      "metadata": {
        "id": "bpf5Zz3m83J4"
      },
      "source": [
        "# Resolução sem utilização da manipulação do dicionário\n",
        "cursos = []\n",
        "for aluno in alunos:\n",
        "  if (aluno['curso'] not in cursos):\n",
        "    cursos.append(aluno['curso'])\n",
        "    \n",
        "cursos.sort()\n",
        "\n",
        "for curso in cursos:\n",
        "  av1Arr = []\n",
        "  for aluno in alunos:\n",
        "      if (aluno['curso'] == curso):\n",
        "        av1Arr.append(int(aluno['AV1']))\n",
        "\n",
        "  print(\"Curso: %s %s\" % (curso, av1Arr) )\n",
        "  print(\"A maior nota é.....: \", max(av1Arr))\n",
        "  print(\"A menor nota é.....: \", min(av1Arr))\n",
        "  print(\"A média das notas é: \", round(sum(av1Arr)/len(av1Arr), 2))\n",
        "  print(\"\\n\")"
      ],
      "execution_count": null,
      "outputs": []
    }
  ]
}