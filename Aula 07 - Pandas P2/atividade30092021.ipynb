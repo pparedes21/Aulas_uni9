{
  "nbformat": 4,
  "nbformat_minor": 0,
  "metadata": {
    "colab": {
      "name": "_atividade_sex_m_24092021.ipynb",
      "provenance": [],
      "collapsed_sections": []
    },
    "kernelspec": {
      "name": "python3",
      "display_name": "Python 3"
    },
    "language_info": {
      "name": "python"
    }
  },
  "cells": [
    {
      "cell_type": "markdown",
      "metadata": {
        "id": "GZFiYUzjjLnB"
      },
      "source": [
        "# ATIVIDADE Pandas"
      ]
    },
    {
      "cell_type": "markdown",
      "metadata": {
        "id": "PKhFfBxqj040"
      },
      "source": [
        "1. Importar a biblioteca do Pandas"
      ]
    },
    {
      "cell_type": "code",
      "metadata": {
        "id": "S-izL2-xkBF5"
      },
      "source": [
        "import pandas as pd"
      ],
      "execution_count": null,
      "outputs": []
    },
    {
      "cell_type": "markdown",
      "metadata": {
        "id": "I3-gBz0wjQyK"
      },
      "source": [
        "2. Importar os três `datasets` disponíveis no endereço: http://emsapi.esy.es/datasets/, definindo as variáveis, respectivamente como:\n",
        "    * `df_corona_limpo`\n",
        "    * `df_indice_alunos`\n",
        "    * `df_notas_alunos`"
      ]
    },
    {
      "cell_type": "code",
      "metadata": {
        "id": "OKJbqaV2jUc7"
      },
      "source": [
        "###\n",
        "###\n",
        "###"
      ],
      "execution_count": null,
      "outputs": []
    },
    {
      "cell_type": "markdown",
      "metadata": {
        "id": "WrDLioV1kM3G"
      },
      "source": [
        "3. Mostrar quantas observações e quantas variáveis existem em `df_corona_limpo`"
      ]
    },
    {
      "cell_type": "code",
      "metadata": {
        "id": "Mc2pH0N2g0jM"
      },
      "source": [
        "###"
      ],
      "execution_count": null,
      "outputs": []
    },
    {
      "cell_type": "markdown",
      "metadata": {
        "id": "IiKnAfgKkbCk"
      },
      "source": [
        "4. Mostre individualmente o número de observações e o número de variáveis em `df_corona_limpo`"
      ]
    },
    {
      "cell_type": "code",
      "metadata": {
        "id": "oEorqSpGg0pr"
      },
      "source": [
        "###\n",
        "###"
      ],
      "execution_count": null,
      "outputs": []
    },
    {
      "cell_type": "markdown",
      "metadata": {
        "id": "EnIworp4ke5O"
      },
      "source": [
        "5. Mostre o maior valor da variável `Indice5` de `df_indice_alunos`"
      ]
    },
    {
      "cell_type": "code",
      "metadata": {
        "id": "9YiTCL0Sg0tE"
      },
      "source": [
        "###"
      ],
      "execution_count": null,
      "outputs": []
    },
    {
      "cell_type": "markdown",
      "metadata": {
        "id": "u2HKK2QTknBL"
      },
      "source": [
        "6. Mostre as últimas **8** observações de `df_indice_alunos`"
      ]
    },
    {
      "cell_type": "code",
      "metadata": {
        "id": "-ZJmRWQ8g0v8"
      },
      "source": [
        "###"
      ],
      "execution_count": null,
      "outputs": []
    },
    {
      "cell_type": "markdown",
      "metadata": {
        "id": "9IySbpXJktgs"
      },
      "source": [
        "7. Qual o **tipo de dado** da variável `Nota4` de `df_notas_alunos`"
      ]
    },
    {
      "cell_type": "code",
      "metadata": {
        "id": "u4oGT_z2ikr4"
      },
      "source": [
        "###"
      ],
      "execution_count": null,
      "outputs": []
    },
    {
      "cell_type": "markdown",
      "metadata": {
        "id": "CKna8tLtlTrm"
      },
      "source": [
        "8. **Desafio** - Quantas observações existem no `dataset` disponível em:\n",
        " * https://perso.telecom-paristech.fr/eagan/class/igr204/data/nat1900-2017.tsv"
      ]
    },
    {
      "cell_type": "code",
      "metadata": {
        "id": "YoKjsdFLeR7T"
      },
      "source": [
        "###\n",
        "###"
      ],
      "execution_count": null,
      "outputs": []
    }
  ]
}