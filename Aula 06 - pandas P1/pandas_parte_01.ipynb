{
  "nbformat": 4,
  "nbformat_minor": 0,
  "metadata": {
    "colab": {
      "name": "Untitled2.ipynb",
      "provenance": [],
      "collapsed_sections": []
    },
    "kernelspec": {
      "name": "python3",
      "display_name": "Python 3"
    },
    "language_info": {
      "name": "python"
    }
  },
  "cells": [
    {
      "cell_type": "markdown",
      "metadata": {
        "id": "Jp64VOhbz-OJ"
      },
      "source": [
        "# Introdução ao Pandas - Manipulação de Dados\n",
        "\n",
        "Pandas é uma biblioteca preparada para trabalhar com dados. É possível: importar, exportar, manipular, etc.\n",
        "\n",
        "* Dados tabulares\n",
        "* DataFrame\n",
        "* funções Aritméticas\n",
        "\n",
        "## Documentação: [https://pandas.pydata.org/pandas-docs/stable/](https://pandas.pydata.org/pandas-docs/stable/)"
      ]
    },
    {
      "cell_type": "markdown",
      "metadata": {
        "id": "woVbcQkT2ITv"
      },
      "source": [
        "# Estrutura de Dados - Tabulares\n",
        "\n",
        "<span style=\"color: white;\">\n",
        "<img src=\"https://1.bp.blogspot.com/-Q7Z24Yg-_lk/YGelmEQAXQI/AAAAAAAABiI/AAJs1Az8vMkbxhg_dPdG5LdPfHsZR3SIQCPcBGAYYCw/s1046/02_io_readwrite.png\"></span>"
      ]
    },
    {
      "cell_type": "markdown",
      "metadata": {
        "id": "jBE3rzu04vDL"
      },
      "source": [
        "# Características dos dados tabulares\n",
        "\n",
        "* Primeira linha: Cabeçalho (**Header**)\n",
        "* Cada coluna: uma variável (**Variable**)\n",
        "* Cada linha: uma observação (**Observation**)\n",
        "* Cada tabela (arquivo): um nível de observação (**Level**)"
      ]
    },
    {
      "cell_type": "markdown",
      "metadata": {
        "id": "oIdpUb6M7zVU"
      },
      "source": [
        "* DataFrame: tabela retangular de dados\n",
        "    * Conjunto de *Series*\n",
        "    * Todas compartilhando do mesmo índice (*index*)\n",
        "\n",
        "* Series: Coluna do DataFrame\n",
        "    * *arrays* em 1-D\n",
        "    * Composta por:\n",
        "        * Sequência de valores\n",
        "            * *numeric*\n",
        "            * *string*\n",
        "            * *bool*\n",
        "        * Sequência de *index*\n",
        "\n",
        "Representação gráfica de um DataFrame\n",
        "\n",
        "![](https://media.geeksforgeeks.org/wp-content/uploads/20200225170506/pandas-series.png)\n"
      ]
    },
    {
      "cell_type": "code",
      "metadata": {
        "id": "FgovXEg_0A5s"
      },
      "source": [
        "import pandas as pd # pd é um apelido ou \"alias\" para o pandas"
      ],
      "execution_count": 1,
      "outputs": []
    },
    {
      "cell_type": "code",
      "metadata": {
        "id": "yFTDpdIeLcQK"
      },
      "source": [
        "# como carregar um arquivo do tipo CSV\n",
        "# criar uma variável para receber o arquivo aberto (dados - dataset)\n",
        "# quando carregamos um dataset para o Pandas, torna-se um DataFrame (df)\n",
        "df_alunos = pd.read_csv('/content/alunos.csv', sep=',')"
      ],
      "execution_count": 3,
      "outputs": []
    },
    {
      "cell_type": "code",
      "metadata": {
        "colab": {
          "base_uri": "https://localhost:8080/",
          "height": 206
        },
        "id": "vklyDB-gNACp",
        "outputId": "07911c76-0daf-4cec-a978-e8d875851636"
      },
      "source": [
        "# mostrando os dados do DataFrame\n",
        "df_alunos.head() # mostra as cinco primeiras linhas do DataFrame"
      ],
      "execution_count": 4,
      "outputs": [
        {
          "output_type": "execute_result",
          "data": {
            "text/html": [
              "<div>\n",
              "<style scoped>\n",
              "    .dataframe tbody tr th:only-of-type {\n",
              "        vertical-align: middle;\n",
              "    }\n",
              "\n",
              "    .dataframe tbody tr th {\n",
              "        vertical-align: top;\n",
              "    }\n",
              "\n",
              "    .dataframe thead th {\n",
              "        text-align: right;\n",
              "    }\n",
              "</style>\n",
              "<table border=\"1\" class=\"dataframe\">\n",
              "  <thead>\n",
              "    <tr style=\"text-align: right;\">\n",
              "      <th></th>\n",
              "      <th>ra</th>\n",
              "      <th>nome</th>\n",
              "      <th>curso</th>\n",
              "      <th>nota1</th>\n",
              "      <th>nota2</th>\n",
              "    </tr>\n",
              "  </thead>\n",
              "  <tbody>\n",
              "    <tr>\n",
              "      <th>0</th>\n",
              "      <td>123</td>\n",
              "      <td>Edson</td>\n",
              "      <td>TADS</td>\n",
              "      <td>6.5</td>\n",
              "      <td>7.5</td>\n",
              "    </tr>\n",
              "    <tr>\n",
              "      <th>1</th>\n",
              "      <td>321</td>\n",
              "      <td>Andrea</td>\n",
              "      <td>TGTI</td>\n",
              "      <td>8.5</td>\n",
              "      <td>6.2</td>\n",
              "    </tr>\n",
              "    <tr>\n",
              "      <th>2</th>\n",
              "      <td>159</td>\n",
              "      <td>Gustavo</td>\n",
              "      <td>PDPD</td>\n",
              "      <td>9.6</td>\n",
              "      <td>4.2</td>\n",
              "    </tr>\n",
              "    <tr>\n",
              "      <th>3</th>\n",
              "      <td>753</td>\n",
              "      <td>Elisa</td>\n",
              "      <td>Medicina</td>\n",
              "      <td>8.5</td>\n",
              "      <td>8.5</td>\n",
              "    </tr>\n",
              "    <tr>\n",
              "      <th>4</th>\n",
              "      <td>654</td>\n",
              "      <td>Lola Pessarelo</td>\n",
              "      <td>Veterinária</td>\n",
              "      <td>7.5</td>\n",
              "      <td>7.8</td>\n",
              "    </tr>\n",
              "  </tbody>\n",
              "</table>\n",
              "</div>"
            ],
            "text/plain": [
              "    ra            nome        curso  nota1  nota2\n",
              "0  123           Edson         TADS    6.5    7.5\n",
              "1  321          Andrea         TGTI    8.5    6.2\n",
              "2  159         Gustavo         PDPD    9.6    4.2\n",
              "3  753           Elisa     Medicina    8.5    8.5\n",
              "4  654  Lola Pessarelo  Veterinária    7.5    7.8"
            ]
          },
          "metadata": {},
          "execution_count": 4
        }
      ]
    },
    {
      "cell_type": "code",
      "metadata": {
        "colab": {
          "base_uri": "https://localhost:8080/",
          "height": 112
        },
        "id": "Jh4DqusWNxm8",
        "outputId": "8247b2c1-2d60-4f3d-dd07-a701bac30625"
      },
      "source": [
        "# mostrando linhas com filtro\n",
        "df_alunos.head(2)"
      ],
      "execution_count": 5,
      "outputs": [
        {
          "output_type": "execute_result",
          "data": {
            "text/html": [
              "<div>\n",
              "<style scoped>\n",
              "    .dataframe tbody tr th:only-of-type {\n",
              "        vertical-align: middle;\n",
              "    }\n",
              "\n",
              "    .dataframe tbody tr th {\n",
              "        vertical-align: top;\n",
              "    }\n",
              "\n",
              "    .dataframe thead th {\n",
              "        text-align: right;\n",
              "    }\n",
              "</style>\n",
              "<table border=\"1\" class=\"dataframe\">\n",
              "  <thead>\n",
              "    <tr style=\"text-align: right;\">\n",
              "      <th></th>\n",
              "      <th>ra</th>\n",
              "      <th>nome</th>\n",
              "      <th>curso</th>\n",
              "      <th>nota1</th>\n",
              "      <th>nota2</th>\n",
              "    </tr>\n",
              "  </thead>\n",
              "  <tbody>\n",
              "    <tr>\n",
              "      <th>0</th>\n",
              "      <td>123</td>\n",
              "      <td>Edson</td>\n",
              "      <td>TADS</td>\n",
              "      <td>6.5</td>\n",
              "      <td>7.5</td>\n",
              "    </tr>\n",
              "    <tr>\n",
              "      <th>1</th>\n",
              "      <td>321</td>\n",
              "      <td>Andrea</td>\n",
              "      <td>TGTI</td>\n",
              "      <td>8.5</td>\n",
              "      <td>6.2</td>\n",
              "    </tr>\n",
              "  </tbody>\n",
              "</table>\n",
              "</div>"
            ],
            "text/plain": [
              "    ra    nome curso  nota1  nota2\n",
              "0  123   Edson  TADS    6.5    7.5\n",
              "1  321  Andrea  TGTI    8.5    6.2"
            ]
          },
          "metadata": {},
          "execution_count": 5
        }
      ]
    },
    {
      "cell_type": "code",
      "metadata": {
        "colab": {
          "base_uri": "https://localhost:8080/"
        },
        "id": "oAQlYX9mOqST",
        "outputId": "9bc30b9b-ba34-4b6f-e530-3423f2e4eb85"
      },
      "source": [
        "# mas quantos registros tem no DataFrame?\n",
        "df_alunos.shape"
      ],
      "execution_count": 9,
      "outputs": [
        {
          "output_type": "execute_result",
          "data": {
            "text/plain": [
              "(5, 5)"
            ]
          },
          "metadata": {},
          "execution_count": 9
        }
      ]
    },
    {
      "cell_type": "code",
      "metadata": {
        "colab": {
          "base_uri": "https://localhost:8080/"
        },
        "id": "3-vXZiAvO2ha",
        "outputId": "a244070e-cf5f-422f-d8ec-0dd1b7eb7450"
      },
      "source": [
        "# .shape sempre retornará dois valores, onde o primeiro é a quantidade de\n",
        "# registros e a setunda a quantidade de colunas.\n",
        "# podem ser acessadas via índice, como nas listas\n",
        "print(df_alunos.shape[0]) # mostra a quantidade de registros\n",
        "print(df_alunos.shape[1]) # mostra a quantidade de colunas"
      ],
      "execution_count": 10,
      "outputs": [
        {
          "output_type": "stream",
          "name": "stdout",
          "text": [
            "5\n",
            "5\n"
          ]
        }
      ]
    },
    {
      "cell_type": "code",
      "metadata": {
        "colab": {
          "base_uri": "https://localhost:8080/",
          "height": 300
        },
        "id": "o3ydr1lfPvMg",
        "outputId": "d848fa0e-d01c-4425-f04b-48219bfe9d13"
      },
      "source": [
        "# mostrando dados estatísticos sobre o DataFrame\n",
        "df_alunos.describe()"
      ],
      "execution_count": 13,
      "outputs": [
        {
          "output_type": "execute_result",
          "data": {
            "text/html": [
              "<div>\n",
              "<style scoped>\n",
              "    .dataframe tbody tr th:only-of-type {\n",
              "        vertical-align: middle;\n",
              "    }\n",
              "\n",
              "    .dataframe tbody tr th {\n",
              "        vertical-align: top;\n",
              "    }\n",
              "\n",
              "    .dataframe thead th {\n",
              "        text-align: right;\n",
              "    }\n",
              "</style>\n",
              "<table border=\"1\" class=\"dataframe\">\n",
              "  <thead>\n",
              "    <tr style=\"text-align: right;\">\n",
              "      <th></th>\n",
              "      <th>ra</th>\n",
              "      <th>nota1</th>\n",
              "      <th>nota2</th>\n",
              "    </tr>\n",
              "  </thead>\n",
              "  <tbody>\n",
              "    <tr>\n",
              "      <th>count</th>\n",
              "      <td>5.000000</td>\n",
              "      <td>5.000000</td>\n",
              "      <td>5.000000</td>\n",
              "    </tr>\n",
              "    <tr>\n",
              "      <th>mean</th>\n",
              "      <td>402.000000</td>\n",
              "      <td>8.120000</td>\n",
              "      <td>6.840000</td>\n",
              "    </tr>\n",
              "    <tr>\n",
              "      <th>std</th>\n",
              "      <td>287.296015</td>\n",
              "      <td>1.171324</td>\n",
              "      <td>1.694993</td>\n",
              "    </tr>\n",
              "    <tr>\n",
              "      <th>min</th>\n",
              "      <td>123.000000</td>\n",
              "      <td>6.500000</td>\n",
              "      <td>4.200000</td>\n",
              "    </tr>\n",
              "    <tr>\n",
              "      <th>25%</th>\n",
              "      <td>159.000000</td>\n",
              "      <td>7.500000</td>\n",
              "      <td>6.200000</td>\n",
              "    </tr>\n",
              "    <tr>\n",
              "      <th>50%</th>\n",
              "      <td>321.000000</td>\n",
              "      <td>8.500000</td>\n",
              "      <td>7.500000</td>\n",
              "    </tr>\n",
              "    <tr>\n",
              "      <th>75%</th>\n",
              "      <td>654.000000</td>\n",
              "      <td>8.500000</td>\n",
              "      <td>7.800000</td>\n",
              "    </tr>\n",
              "    <tr>\n",
              "      <th>max</th>\n",
              "      <td>753.000000</td>\n",
              "      <td>9.600000</td>\n",
              "      <td>8.500000</td>\n",
              "    </tr>\n",
              "  </tbody>\n",
              "</table>\n",
              "</div>"
            ],
            "text/plain": [
              "               ra     nota1     nota2\n",
              "count    5.000000  5.000000  5.000000\n",
              "mean   402.000000  8.120000  6.840000\n",
              "std    287.296015  1.171324  1.694993\n",
              "min    123.000000  6.500000  4.200000\n",
              "25%    159.000000  7.500000  6.200000\n",
              "50%    321.000000  8.500000  7.500000\n",
              "75%    654.000000  8.500000  7.800000\n",
              "max    753.000000  9.600000  8.500000"
            ]
          },
          "metadata": {},
          "execution_count": 13
        }
      ]
    },
    {
      "cell_type": "code",
      "metadata": {
        "colab": {
          "base_uri": "https://localhost:8080/"
        },
        "id": "LrUizrnXQ6jY",
        "outputId": "6ca150b2-bcf4-4690-913f-dfa3d84b383d"
      },
      "source": [
        "# até aqui \"tá mamão com açúcar\", mas de que tipos são os dados????\n",
        "df_alunos.info()"
      ],
      "execution_count": 15,
      "outputs": [
        {
          "output_type": "stream",
          "name": "stdout",
          "text": [
            "<class 'pandas.core.frame.DataFrame'>\n",
            "RangeIndex: 5 entries, 0 to 4\n",
            "Data columns (total 5 columns):\n",
            " #   Column  Non-Null Count  Dtype  \n",
            "---  ------  --------------  -----  \n",
            " 0   ra      5 non-null      int64  \n",
            " 1   nome    5 non-null      object \n",
            " 2   curso   5 non-null      object \n",
            " 3   nota1   5 non-null      float64\n",
            " 4   nota2   5 non-null      float64\n",
            "dtypes: float64(2), int64(1), object(2)\n",
            "memory usage: 328.0+ bytes\n"
          ]
        }
      ]
    },
    {
      "cell_type": "code",
      "metadata": {
        "id": "uzh6yvu0RgFs"
      },
      "source": [
        ""
      ],
      "execution_count": null,
      "outputs": []
    }
  ]
}